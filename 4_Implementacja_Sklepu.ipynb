{
 "cells": [
  {
   "cell_type": "markdown",
   "metadata": {},
   "source": [
    "# Zadanie główne\n",
    "\n",
    "Implementacja sklepu. Kolejne klasy powinny być zaimplementowane w osobnych komórkach :)\n",
    "\n",
    "## Część 1\n",
    "\n",
    "\n",
    "1. Sklep powinieć posiadać pewne podstawowe atrybuty (nazwa, branża etc.). Każdy z tych atrybutów powinien być dostępny poprzez osobną metodę. Sklep powiniec wypisać wszystkie podstawowe atrybuty sklepu w przystępnej postaci (print i __str__)\n",
    "2. Sklep posiada słownik produktów (nazwa_produktu -> Produkt) oraz kwotę zarobioną\n",
    "3. Sklep powinien udostępniać możliwość dodania nowego produktu\n",
    "4. Produkty zawierają atrybuty takie jak nazwa i cena\n",
    "5. Klienci trzymają w sobie listę zakupionych produktów oraz kapitał który posiadają\n",
    "6. Klienci dzielą się na klientów biznesowych i indywidualnych. Klienci biznesowi mają inną stawkę VAT od indywidualnych\n",
    "8. Gdy klient chce kupić produkt, powiniec moc poinformowac sklep o chęci wykonania zakupu. Sklep powinien obiekt klienta wraz z nazwą produktu. Z obiektu klienta sklep powinien pobrać stawkę VAT. Koszt kupna równa się cenie produktu z doliczonym VATem. Koszt kupna powinien zostać przez sklep odjęty z kapitału klienta i dodany do kwoty zarobionej sklepu.\n",
    "9. Przed wykonaniem sprzedaży, sklep powinien sprawdzić czy klienta stać na zakup. Jeśli nie, transakcja nie powinna dojsć do skutku i odpowiedni komunikat powinien być wypisany na ekran\n",
    "10. W przypadku gdy klient chce kupić nieistniejący produkt, stosowny komunikat powinien być wypisany na ekran\n",
    "\n",
    "## Część 2\n",
    "\n",
    "1. Klient powinien móc zasubskrybować się do informacji o nowych produktach (Wzorzec Observer)\n",
    "\n",
    "## Część 3 \n",
    "\n",
    "1. Sklep, klienci powinni udostępniać metody do pozyskania najdroższej i najtańszej rzeczy z produktów\n",
    "2. Klienci powinni udostępniać metodę do pozyskania listy NAZW zakupionych produktów (nie produktów)\n"
   ]
  },
  {
   "cell_type": "code",
   "execution_count": null,
   "metadata": {},
   "outputs": [],
   "source": []
  }
 ],
 "metadata": {
  "kernelspec": {
   "display_name": "Python 3",
   "language": "python",
   "name": "python3"
  },
  "language_info": {
   "codemirror_mode": {
    "name": "ipython",
    "version": 3
   },
   "file_extension": ".py",
   "mimetype": "text/x-python",
   "name": "python",
   "nbconvert_exporter": "python",
   "pygments_lexer": "ipython3",
   "version": "3.6.4"
  }
 },
 "nbformat": 4,
 "nbformat_minor": 2
}
