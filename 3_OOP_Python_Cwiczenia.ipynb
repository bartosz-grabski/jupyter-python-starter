{
 "cells": [
  {
   "cell_type": "code",
   "execution_count": null,
   "metadata": {},
   "outputs": [],
   "source": [
    "# Zadanie 1\n",
    "# Zaimplementuje klasy 'Dog', 'Cat' ktore dziedzicza po 'Animal',\n",
    "# Klasa nadrzędna przyjmuje parametr 'sound', zapisuje jako pole.\n",
    "# 'Animal' posiada jedną metode get_sound która wypisuje na ekran stan pola 'sound'\n",
    "# Klasy podrzędne powinny nadpisać tą metodę, wypisując oprócz pola 'My sound is <stan_pola_sound>'\n",
    "# Spróbuj w wywołać metodę z klasy nadrzędnej przy pozyskiwaniu pola sound"
   ]
  },
  {
   "cell_type": "code",
   "execution_count": null,
   "metadata": {},
   "outputs": [],
   "source": [
    "# Zadanie 2\n",
    "# Zamodeluj obiektowo relację pomiędzy pracownikami (Employee). Osoby powinny mieć imiona, nazwiska, pensję.\n",
    "# Każda z osób pracuje na jakimś stanowisku (Manager, Programmer, HR). Powinny być to typy dziedziczące po Employee\n",
    "# Każde stanowisko ma inną pensję. Powinniśmy móc spytać o pensję każdego pracownika oraz dać danemu pracownikowi podwyżkę"
   ]
  }
 ],
 "metadata": {
  "kernelspec": {
   "display_name": "Python 3",
   "language": "python",
   "name": "python3"
  },
  "language_info": {
   "codemirror_mode": {
    "name": "ipython",
    "version": 3
   },
   "file_extension": ".py",
   "mimetype": "text/x-python",
   "name": "python",
   "nbconvert_exporter": "python",
   "pygments_lexer": "ipython3",
   "version": "3.6.4"
  }
 },
 "nbformat": 4,
 "nbformat_minor": 2
}
