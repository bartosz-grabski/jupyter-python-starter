{
 "cells": [
  {
   "cell_type": "markdown",
   "metadata": {},
   "source": [
    "# Rozgrzewka"
   ]
  },
  {
   "cell_type": "markdown",
   "metadata": {},
   "source": [
    "1. Różnica pomiędzy językiem interpretowalnym a kompilowalnym. Jakim językiem jest Python?\n",
    "2. Jakie mamy typy danych w Pythonie?\n",
    "3. Czym jest tablica? Jak definiujemy tablicę w Pythonie?\n",
    "4. Czym jest słownik?\n",
    "5. Czym jest klasa i obiekt? Czym jest konstruktor?"
   ]
  },
  {
   "cell_type": "code",
   "execution_count": 2,
   "metadata": {},
   "outputs": [],
   "source": [
    "# Wypisz typ danych następujących zmiennych/definicji\n",
    "\n",
    "a = 1\n",
    "b = 1.0\n",
    "c = 'hello'\n",
    "e = []\n",
    "f = {}\n",
    "class Person:\n",
    "    pass\n"
   ]
  },
  {
   "cell_type": "code",
   "execution_count": 3,
   "metadata": {},
   "outputs": [
    {
     "ename": "AssertionError",
     "evalue": "",
     "output_type": "error",
     "traceback": [
      "\u001b[0;31m---------------------------------------------------------------------------\u001b[0m",
      "\u001b[0;31mAssertionError\u001b[0m                            Traceback (most recent call last)",
      "\u001b[0;32m<ipython-input-3-dee23fdc2764>\u001b[0m in \u001b[0;36m<module>\u001b[0;34m()\u001b[0m\n\u001b[1;32m      5\u001b[0m \u001b[0;34m\u001b[0m\u001b[0m\n\u001b[1;32m      6\u001b[0m \u001b[0;34m\u001b[0m\u001b[0m\n\u001b[0;32m----> 7\u001b[0;31m \u001b[0;32massert\u001b[0m \u001b[0mresult\u001b[0m \u001b[0;34m==\u001b[0m \u001b[0;36m4851\u001b[0m\u001b[0;34m\u001b[0m\u001b[0m\n\u001b[0m\u001b[1;32m      8\u001b[0m \u001b[0;34m\u001b[0m\u001b[0m\n\u001b[1;32m      9\u001b[0m \u001b[0;31m# hint - pętla for (lub dla ciekawskich - wbudowane funkcje do operowania na kolekcjach)\u001b[0m\u001b[0;34m\u001b[0m\u001b[0;34m\u001b[0m\u001b[0m\n",
      "\u001b[0;31mAssertionError\u001b[0m: "
     ]
    }
   ],
   "source": [
    "# Oblicz sumę liczb z tablicy 'tab' i zapisz ją do zmiennej 'result'\n",
    "\n",
    "result = 0\n",
    "tab = list(range(1,100)) # tablica elementów od 1 do 99 [...]\n",
    "\n",
    "\n",
    "assert result == 4851\n",
    "\n",
    "# hint - pętla for (lub dla ciekawskich - wbudowane funkcje do operowania na kolekcjach)"
   ]
  },
  {
   "cell_type": "code",
   "execution_count": null,
   "metadata": {},
   "outputs": [],
   "source": [
    "# Zdefiniuj klasę Person ktora przyjmuje w konstruktorze 2 parametry 'name' i 'surname'\n",
    "# Stwórz 3 obiekty klasy Person (parametry dowolne) i zapisz je do zmiennych person1, person2, person3."
   ]
  },
  {
   "cell_type": "code",
   "execution_count": null,
   "metadata": {},
   "outputs": [],
   "source": [
    "# Stwórz tablicę 'people' i dodaj zmienne person1, person2, person3 do tablicy\n",
    "\n",
    "assert len(people) == 3"
   ]
  },
  {
   "cell_type": "code",
   "execution_count": null,
   "metadata": {},
   "outputs": [],
   "source": [
    "# Zdefiniuj funkcję 'myMax' która przyjmuje tablicę elementów i zwraca największy element\n",
    "\n",
    "assert myMax([1,2,3,10,11,2,2]) == 11\n",
    "\n",
    "# hint dla ciekawskich - można skorzystać z wbudowanych funkcji :) "
   ]
  },
  {
   "cell_type": "code",
   "execution_count": null,
   "metadata": {},
   "outputs": [],
   "source": [
    "# Stwórz dwa zbiory 'a' i 'b'\n",
    "# Dodaj do zbioru a liczby 1,2,3\n",
    "# Dodaj do zbioru b liczby 2,3,4\n",
    "# Stwórz zbiory 'intersect' oraz 'union' będące iloczynem oraz sumą zbiorów 'a' i 'b'\n",
    "\n",
    "assert len(union) == 4\n",
    "assert len(intersect) == 2"
   ]
  },
  {
   "cell_type": "code",
   "execution_count": null,
   "metadata": {},
   "outputs": [],
   "source": [
    "# Znajdz najmniejszy element w liście korzystając z rekurencji\n",
    "\n",
    "def recurrent(...)\n",
    "\n",
    "assert recurrent([1,2,3,0,1]) == 0"
   ]
  }
 ],
 "metadata": {
  "kernelspec": {
   "display_name": "Python 3",
   "language": "python",
   "name": "python3"
  },
  "language_info": {
   "codemirror_mode": {
    "name": "ipython",
    "version": 3
   },
   "file_extension": ".py",
   "mimetype": "text/x-python",
   "name": "python",
   "nbconvert_exporter": "python",
   "pygments_lexer": "ipython3",
   "version": "3.6.4"
  }
 },
 "nbformat": 4,
 "nbformat_minor": 2
}
